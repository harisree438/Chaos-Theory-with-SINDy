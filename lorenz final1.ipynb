import pandas as pd
import numpy as np

# Load Lorenz Data
file_path = 'LorenzData.csv'  # Replace with your actual file path

# Assuming the file does not have a header, use header=None
lorenz_data = pd.read_csv('LorenzData.csv', header=None)

# Define Parameters
lambda_val = 0.6 # Regularization Parameter
dt = 0.001  # Time Step
tmax = 20  # Maximum Time

# Identify Columns
# Assuming the order of columns corresponds to (0, 1, 2) or (x, y, z)
# If the columns are not labeled, you may adjust the column indices accordingly
# For example, if columns are (0, 1, 2), set x_col = 0, y_col = 1, z_col = 2
x_col, y_col, z_col = 0,1,2

# Extract data
#time_column = 0  # Assuming the first column is time

x_values = lorenz_data.iloc[:, x_col].values
y_values = lorenz_data.iloc[:, y_col].values
z_values = lorenz_data.iloc[:, z_col].values

# Display loaded data and parameters
print("Lorenz Data:")
print(lorenz_data.head())

print("\nParameters:")
print(f"Regularization Parameter (lambda): {lambda_val}")
print(f"Time Step (dt): {dt}")
print(f"Maximum Time (tmax): {tmax}")



# Compute Derivatives
dxdt = np.gradient(x_values, dt)
dydt = np.gradient(y_values, dt)
dzdt = np.gradient(z_values, dt)
#Stack the derivatives into a single array
dXdt = np.column_stack([dxdt, dydt,dzdt])

# Display computed derivatives
print("Computed Derivatives (dx/dt, dy/dt,dz/dt):")
print(dXdt)

# Normalize Theta

import numpy as np

# Assuming dXdt, x_values, y_values, z_values are already defined from previous steps

# Construct Design Matrix Theta(X)
# Include constants (1), individual variables (x, y, z), and their products
# Add non-linear terms, e.g., x^2, y^2, z^2, and trigonometric functions (cos and sin)

# Uncomment the portions below depending on the dimension (column size of X)
# For three-dimensional problems:

Theta = np.column_stack([
  np.ones_like(x_values),  # Constants
  x_values, y_values, z_values,  # Individual variables
  x_values * y_values, y_values * z_values, x_values * z_values,  # Products
  x_values**2, y_values**2, z_values**2,  # Squared terms
  np.cos(x_values), np.cos(y_values), np.cos(z_values),  # Trigonometric functions
  np.sin(x_values), np.sin(y_values), np.sin(z_values)
])

#or two-dimensional problems:
#Uncomment the portions below for 2-dimensional problems
#Theta = np.column_stack([
  # x_values, y_values, x_values * y_values,
  # x_values**2, y_values**2, np.cos(x_values), np.cos(y_values),
   #np.sin(x_values), np.sin(y_values)
#])

# Display the constructed design matrix
print("Constructed Design Matrix Theta(X):")
print(Theta)

# Initialize Unknown Coefficients Xi using least squares regression

# Calculate the pseudoinverse of Theta
Theta_pseudoinv = np.linalg.pinv(Theta)

# Solve for Xi_initial
Xi_initial = np.dot(Theta_pseudoinv, dXdt)

# Display the initial coefficients
print("Initial Unknown Coefficients (Xi_initial):")
print(Xi_initial)


import numpy as np

# Assuming Xi_initial, Theta, and dXdt are already defined from previous steps
# Also, lambda_val should be defined as your regularization parameter

# SINDy Iterative Algorithm
Xi = Xi_initial.copy()  # Copy the initial coefficients

# Number of iterations (adjust as needed)
num_iterations = 100

for iteration in range(num_iterations):
    # Identify small coefficients and set them to zero based on a threshold (lambda)
    small_indices = np.abs(Xi) < lambda_val
    Xi[small_indices] = 0

    # For each dimension (x, y, z), perform a least squares regression to update non-zero coefficients
    for idx in range(Xi.shape[1]):
        # Identify indices with non-zero coefficients
        non_zero_indices = ~small_indices[:, idx]

        # Re-evaluate Xi at the indices where values are greater than lambda
        if np.any(non_zero_indices):
            # Calculate the pseudoinverse of the submatrix of Theta
            Theta_submatrix = Theta[:, non_zero_indices]
            Theta_submatrix_pseudoinv = np.linalg.pinv(Theta_submatrix)

            # Solve for the updated coefficients
            Xi[non_zero_indices, idx] = np.dot(Theta_submatrix_pseudoinv, dXdt[:, idx])

# Display the final coefficients after the SINDy iterative algorithm
print("Final Unknown Coefficients (Xi):")
print(Xi)
